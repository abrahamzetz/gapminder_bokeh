{
 "cells": [
  {
   "cell_type": "code",
   "execution_count": 1,
   "id": "6ba661fd-2305-425c-8281-65008e6a2f3a",
   "metadata": {
    "tags": []
   },
   "outputs": [],
   "source": [
    "# Import pandas\n",
    "import pandas as pd\n",
    "\n",
    "# Import bokeh\n",
    "from bokeh.io import curdoc\n",
    "from bokeh.plotting import figure\n",
    "from bokeh.models import HoverTool, ColumnDataSource, CategoricalColorMapper, Slider, Select, Button\n",
    "from bokeh.layouts import column, row\n",
    "from bokeh.palettes import Spectral6"
   ]
  },
  {
   "cell_type": "code",
   "execution_count": 2,
   "id": "222d014d-b694-42b5-b625-ec2a349db6fe",
   "metadata": {},
   "outputs": [
    {
     "name": "stdout",
     "output_type": "stream",
     "text": [
      "          Country  fertility    life  population  child_mortality     gdp  \\\n",
      "Year                                                                        \n",
      "1964  Afghanistan      7.671  33.639  10474903.0            339.7  1182.0   \n",
      "1965  Afghanistan      7.671  34.152  10697983.0            334.1  1182.0   \n",
      "1966  Afghanistan      7.671  34.662  10927724.0            328.7  1168.0   \n",
      "1967  Afghanistan      7.671  35.170  11163656.0            323.3  1173.0   \n",
      "1968  Afghanistan      7.671  35.674  11411022.0            318.1  1187.0   \n",
      "\n",
      "          region  \n",
      "Year              \n",
      "1964  South Asia  \n",
      "1965  South Asia  \n",
      "1966  South Asia  \n",
      "1967  South Asia  \n",
      "1968  South Asia  \n"
     ]
    }
   ],
   "source": [
    "# Import data\n",
    "data = pd.read_csv(\"gapminder_tidy.csv\", header=0, index_col=\"Year\")\n",
    "print(data.head())"
   ]
  },
  {
   "cell_type": "code",
   "execution_count": 3,
   "id": "8d95c09d-4e3f-430d-ae8c-a21393cdc169",
   "metadata": {},
   "outputs": [],
   "source": [
    "# Define labels\n",
    "label= {\n",
    "    'fertility' : 'Fertility (children per woman)',\n",
    "    'life' : 'Life Expectancy (years)',\n",
    "    'child_mortality' : 'Child mortality rate',\n",
    "    'gdp': 'Country GDP'\n",
    "}\n",
    "\n",
    "# Define initial plot axes\n",
    "x = 'fertility'\n",
    "y = 'life'\n",
    "year = 1970\n",
    "\n",
    "# Make the base plot\n",
    "source = ColumnDataSource(data={\n",
    "    'x'       : data.loc[year, x],\n",
    "    'y'       : data.loc[year, y],\n",
    "    'country' : data.loc[year].Country,\n",
    "    'pop'     : (data.loc[year].population / 20000000) + 2,\n",
    "    'region'  : data.loc[year].region,\n",
    "})\n",
    "\n",
    "xmin, xmax = min(data[x]), max(data[x])\n",
    "\n",
    "ymin, ymax = min(data[y]), max(data[y])\n",
    "\n",
    "# Make a color mapper\n",
    "regions_list = data.region.unique().tolist()\n",
    "\n",
    "color_mapper = CategoricalColorMapper(factors=regions_list, palette=Spectral6)\n",
    "\n",
    "# Create the figure\n",
    "plot = figure(title='Gapminder data, plotting {} vs {} for year {}'.format(label[y], label[x], year), plot_height=700, plot_width=1000,\n",
    "              x_range=(xmin, xmax), y_range=(ymin, ymax))\n",
    "\n",
    "plot.circle(x='x', y='y', fill_alpha=0.6, source=source,\n",
    "            color=dict(field='region', transform=color_mapper), size='pop', legend_group='region')\n",
    "\n",
    "plot.legend.location = 'top_right'\n",
    "\n",
    "plot.xaxis.axis_label = label[x]\n",
    "\n",
    "plot.yaxis.axis_label = label[y]"
   ]
  },
  {
   "cell_type": "code",
   "execution_count": 4,
   "id": "e5214f96-2bdf-412c-9a4a-4fd369a18edb",
   "metadata": {},
   "outputs": [],
   "source": [
    "# Create a HoverTool\n",
    "hover = HoverTool(tooltips=[\n",
    "    ('Country', '@country')])\n",
    "\n",
    "plot.add_tools(hover)"
   ]
  },
  {
   "cell_type": "code",
   "execution_count": 5,
   "id": "02a71518-cda7-4674-9865-62d4fe0eea2c",
   "metadata": {},
   "outputs": [],
   "source": [
    "# Define the callback function for interacting with the widgets\n",
    "def update_plot(attr, old, new):\n",
    "    #Get value of current widgets\n",
    "    year = slider.value\n",
    "    x = x_select.value\n",
    "    y = y_select.value\n",
    "    # Label plot axes\n",
    "    plot.xaxis.axis_label = label[x]\n",
    "    plot.yaxis.axis_label = label[y]\n",
    "    # Set new_data\n",
    "    new_data = {\n",
    "        'x'       : data.loc[year, x],\n",
    "        'y'       : data.loc[year, y],\n",
    "        'country' : data.loc[year].Country,\n",
    "        'pop'     : (data.loc[year].population / 20000000) + 2,\n",
    "        'region'  : data.loc[year].region,\n",
    "    }\n",
    "    # Assign new_data to source.data\n",
    "    source.data = new_data\n",
    "\n",
    "    # Set the range of all axes\n",
    "    plot.x_range.start = min(data[x])\n",
    "    plot.x_range.end = max(data[x])\n",
    "    plot.y_range.start = min(data[y])\n",
    "    plot.y_range.end = max(data[y])\n",
    "\n",
    "    # Add title to plot\n",
    "    plot.title.text = 'Gapminder data, plotting {} vs {} for year {}'.format(label[y], label[x], year)\n"
   ]
  },
  {
   "cell_type": "code",
   "execution_count": 6,
   "id": "0475b337-259b-455f-8cfa-c8e7c60dd3c4",
   "metadata": {},
   "outputs": [],
   "source": [
    "# Create a year slider\n",
    "slider = Slider(start=1970, end=2010, step=1, value=1970, title='Year')\n",
    "\n",
    "# Attach the callback to slider\n",
    "slider.on_change('value', update_plot)\n",
    "\n",
    "# Create a dropdown Select widget for the x data\n",
    "x_select = Select(\n",
    "    options=['fertility', 'life', 'child_mortality', 'gdp'],\n",
    "    value='fertility',\n",
    "    title='x-axis data'\n",
    ")\n",
    "\n",
    "# Attach the update_plot callback to x dropdown\n",
    "x_select.on_change('value', update_plot)\n",
    "\n",
    "# Create a dropdown Select widget for the y data\n",
    "y_select = Select(\n",
    "    options=['fertility', 'life', 'child_mortality', 'gdp'],\n",
    "    value='life',\n",
    "    title='y-axis data'\n",
    ")\n",
    "\n",
    "# Attach the update_plot callback to y dropdown\n",
    "y_select.on_change('value', update_plot)"
   ]
  },
  {
   "cell_type": "code",
   "execution_count": 7,
   "id": "ca87c6c6-2604-4b63-b57f-406f69de623b",
   "metadata": {},
   "outputs": [],
   "source": [
    "# Create play-pause button\n",
    "\n",
    "#define the callback function to animate the slider when clicking the button\n",
    "def animate_update():\n",
    "    year = slider.value + 1\n",
    "    if year > 2010:\n",
    "        year = 1970\n",
    "    slider.value = year\n",
    "\n",
    "#create global variable for callback\n",
    "callback_animate = None\n",
    "\n",
    "#define the callback function for clicking the button\n",
    "def animate():\n",
    "    global callback_animate\n",
    "    if button.label == '► Play':\n",
    "        button.label = '❚❚ Pause'\n",
    "        callback_animate = curdoc().add_periodic_callback(animate_update, 200)\n",
    "    else:\n",
    "        button.label = '► Play'\n",
    "        curdoc().remove_periodic_callback(callback_animate)\n",
    "\n",
    "#create the button and set on-click callback\n",
    "button = Button(label='► Play', width=60)\n",
    "button.on_click(animate)"
   ]
  },
  {
   "cell_type": "code",
   "execution_count": 8,
   "id": "39a4ceec-2d76-4fe2-a7b7-3bcc5099cbdb",
   "metadata": {},
   "outputs": [],
   "source": [
    "# Create layout and add to current document\n",
    "layout = row(column(slider, button, x_select, y_select), plot)\n",
    "#layout = row(column(slider, x_select, y_select), plot)\n",
    "curdoc().add_root(layout)\n",
    "curdoc().title = 'Gapminder'"
   ]
  },
  {
   "cell_type": "code",
   "execution_count": 16,
   "id": "ea5e76b1-601a-43b3-b9b2-38696101cdd6",
   "metadata": {},
   "outputs": [],
   "source": [
    "# Run on Bokeh server with bash code\n",
    "!bokeh serve --show gapminder_bokehserver.ipynb"
   ]
  }
 ],
 "metadata": {
  "kernelspec": {
   "display_name": "Python 3",
   "language": "python",
   "name": "python3"
  },
  "language_info": {
   "codemirror_mode": {
    "name": "ipython",
    "version": 3
   },
   "file_extension": ".py",
   "mimetype": "text/x-python",
   "name": "python",
   "nbconvert_exporter": "python",
   "pygments_lexer": "ipython3",
   "version": "3.8.8"
  }
 },
 "nbformat": 4,
 "nbformat_minor": 5
}
